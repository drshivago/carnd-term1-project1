{
 "cells": [
  {
   "cell_type": "code",
   "execution_count": null,
   "metadata": {
    "collapsed": true
   },
   "outputs": [],
   "source": [
    "import matplotlib.pyplot as plt\n",
    "import matplotlib.image as mpimg\n",
    "import numpy as np\n",
    "import cv2\n",
    "from moviepy.editor import VideoFileClip\n",
    "from IPython.display import HTML\n",
    "%matplotlib inline"
   ]
  },
  {
   "cell_type": "code",
   "execution_count": null,
   "metadata": {
    "collapsed": true
   },
   "outputs": [],
   "source": [
    "def process_image(image):\n",
    "\n",
    "    ysize = image.shape[0]\n",
    "    xsize = image.shape[1]\n",
    "\n",
    "    region_select = np.copy(image)\n",
    "    bwimage = cv2.cvtColor(image, cv2.COLOR_RGB2GRAY)\n",
    "    low_thresh = 170\n",
    "    high_thresh = 260\n",
    "\n",
    "    edges = cv2.Canny(bwimage, low_thresh, high_thresh)\n",
    "    \n",
    "    #Region for region select\n",
    "    \n",
    "    left_top = [419, 334]\n",
    "    right_top = [543, 334]\n",
    "    left_bottom = [50, 539]\n",
    "    right_bottom = [910, 539]\n",
    "\n",
    "    fit_left = np.polyfit((left_bottom[0], left_top[0]), (left_bottom[1], left_top[1]), 1)\n",
    "    fit_top = np.polyfit((left_top[0], right_top[0]), (left_top[1], right_top[1]), 1)\n",
    "    fit_right = np.polyfit((right_top[0], right_bottom[0]), (right_top[1], right_bottom[1]), 1)\n",
    "\n",
    "    XX, YY = np.meshgrid(np.arange(0, xsize), np.arange(0, ysize))\n",
    "\n",
    "    region_thresh = (YY < (XX*fit_right[0] + fit_right[1])) | \\\n",
    "                    (YY < (XX*fit_left[0] + fit_left[1])) | \\\n",
    "                    (YY < (XX*fit_top[0] + fit_top[1]))\n",
    "\n",
    "    edges[region_thresh] = [0]\n",
    "    \n",
    "    #Hough Lines variables and function\n",
    "    \n",
    "    rho = 1\n",
    "    theta = np.pi/180\n",
    "    thresh = 40\n",
    "    min_line_length = 60\n",
    "    max_line_gap = 50\n",
    "    \n",
    "    line_image = np.copy(image)*0\n",
    "\n",
    "    lines = cv2.HoughLinesP(edges, rho, theta, thresh, np.array([]),min_line_length, max_line_gap)\n",
    "    \n",
    "    #Make arrays to hold left and right x and y\n",
    "    \n",
    "    leftx = np.zeros([2],dtype=int)\n",
    "    lefty = np.zeros([2],dtype=int)\n",
    "    rightx = np.zeros([2],dtype=int)\n",
    "    righty = np.zeros([2],dtype=int)\n",
    "\n",
    "    #Organize points from Hough to left and right, x and y\n",
    "\n",
    "    for line in lines:\n",
    "    \n",
    "        for x1,y1,x2,y2 in line:\n",
    "        \n",
    "            slope = float((y2-y1)/(x2-x1))\n",
    "            \n",
    "            if slope > 0 and x1 > (xsize/2):\n",
    "\n",
    "                rightx = np.concatenate((rightx,[x1,x2]),0)\n",
    "                righty = np.concatenate((righty,[y1,y2]),0)\n",
    "\n",
    "            if slope < 0 and x1 < (xsize/2):\n",
    "\n",
    "                leftx = np.concatenate((leftx, [x1,x2]),0)\n",
    "                lefty = np.concatenate((lefty, [y1,y2]),0)\n",
    "    \n",
    "    left_lane = np.polyfit(leftx[2:],lefty[2:], 1)\n",
    "    right_lane = np.polyfit(rightx[2:], righty[2:],1)\n",
    "    \n",
    "    #Line equations\n",
    "    left_line = int((539-left_lane[1])/(left_lane[0]))\n",
    "    left_line_top = int((335-left_lane[1])/(left_lane[0]))\n",
    "    right_line = int((539-right_lane[1])/right_lane[0])\n",
    "    right_line_top = int((335-right_lane[1])/right_lane[0])\n",
    "    \n",
    "    #Draw lines\n",
    "    \n",
    "    cv2.line(line_image, (left_line, 539),(left_line_top,335), [255,0,0],10)\n",
    "    cv2.line(line_image, (right_line, 539),(right_line_top,335), [255,0,0],10)\n",
    "    \n",
    "    combo = cv2.addWeighted(image, 0.8, line_image,1,0)\n",
    "\n",
    "    return combo"
   ]
  },
  {
   "cell_type": "code",
   "execution_count": null,
   "metadata": {},
   "outputs": [],
   "source": [
    "white_output = 'test_videos_output/solidYellowLeft.mp4'\n",
    "clip1 = VideoFileClip(\"test_videos/solidYellowLeft.mp4\")\n",
    "white_clip = clip1.fl_image(process_image) #NOTE: this function expects color images!!\n",
    "%time white_clip.write_videofile(white_output, audio=False)"
   ]
  },
  {
   "cell_type": "code",
   "execution_count": null,
   "metadata": {},
   "outputs": [],
   "source": [
    "HTML(\"\"\"\n",
    "<video width=\"960\" height=\"540\" controls>\n",
    "  <source src=\"{0}\">\n",
    "</video>\n",
    "\"\"\".format(white_output))"
   ]
  }
 ],
 "metadata": {
  "kernelspec": {
   "display_name": "Python 3",
   "language": "python",
   "name": "python3"
  },
  "language_info": {
   "codemirror_mode": {
    "name": "ipython",
    "version": 3
   },
   "file_extension": ".py",
   "mimetype": "text/x-python",
   "name": "python",
   "nbconvert_exporter": "python",
   "pygments_lexer": "ipython3",
   "version": "3.5.2"
  },
  "widgets": {
   "state": {},
   "version": "1.1.2"
  }
 },
 "nbformat": 4,
 "nbformat_minor": 2
}
